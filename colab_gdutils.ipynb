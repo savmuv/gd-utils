{
  "nbformat": 4,
  "nbformat_minor": 0,
  "metadata": {
    "colab": {
      "name": "colab-gdutils.ipynb",
      "provenance": [],
      "include_colab_link": true
    },
    "kernelspec": {
      "name": "python3",
      "display_name": "Python 3"
    }
  },
  "cells": [
    {
      "cell_type": "markdown",
      "metadata": {
        "id": "view-in-github",
        "colab_type": "text"
      },
      "source": [
        "<a href=\"https://colab.research.google.com/github/savmuv/gd-utils-eng/blob/master/colab_gdutils.ipynb\" target=\"_parent\"><img src=\"https://colab.research.google.com/assets/colab-badge.svg\" alt=\"Open In Colab\"/></a>"
      ]
    },
    {
      "cell_type": "markdown",
      "metadata": {
        "id": "3Z8cK8h2Avbv"
      },
      "source": [
        "### <font size=5px color=\"#95C7AE\">Prevent Google Colab from automatically disconnecting the code:</font>\n",
        "<p><font size=3px> Automatic code refresh every 60min, lifting the 90min disconnection limit.\n",
        "<p><font size=3px> How to use: press F12 or Ctrl+Shift+I (mac press Option+Command+I) on the colab page, enter the following code in the console (console) and press Enter. </p><b> Copy the following code and paste it in the browser console! ! Do not close the browser to avoid failure</b>\n",
        "\n",
        "\n",
        "```javascript\n",
        "function ConnectButton(){\n",
        "    console.log(\"Connect pushed\"); \n",
        "    document.querySelector(\"#connect\").click() \n",
        "}\n",
        "setInterval(ConnectButton,60000);\n",
        "```"
      ]
    },
    {
      "cell_type": "code",
      "metadata": {
        "id": "jtClEMAMLVHw"
      },
      "source": [
        "#@markdown <h3>← Run after entering the code to prevent disconnection</h>\n",
        "\n",
        "\n",
        "import IPython\n",
        "from google.colab import output\n",
        "\n",
        "display(IPython.display.Javascript('''\n",
        " function ClickConnect(){\n",
        "   btn = document.querySelector(\"colab-connect-button\")\n",
        "   if (btn != null){\n",
        "     console.log(\"Click colab-connect-button\"); \n",
        "     btn.click() \n",
        "     }\n",
        "   \n",
        "   btn = document.getElementById('ok')\n",
        "   if (btn != null){\n",
        "     console.log(\"Click reconnect\"); \n",
        "     btn.click() \n",
        "     }\n",
        "  }\n",
        "  \n",
        "setInterval(ClickConnect,60000)\n",
        "'''))\n",
        "\n",
        "print(\"Done.\")"
      ],
      "execution_count": null,
      "outputs": []
    },
    {
      "cell_type": "markdown",
      "metadata": {
        "id": "ICXqpDfanEX-"
      },
      "source": [
        "### <font size=5px color=\"#95C7AE\">Reading for the first use:</font>\n",
        "<p><font size=3px color=\"#95C7AE\">For the first use, please put the SA json file under the <b>sa</b> folder, and upload the folder to you to be mounted The root directory of your network disk. Then run the package sa folder command at the bottom of the page first, so the command only needs to be run once, so put it at the bottom</font>\n",
        "\n",
        "\n",
        "(If you have used gclone. Autoclone, FolderClone can be found in the corresponding account folder, if you have never used it, please generate it according to the introduction of the original author GitHub)\n",
        "\n",
        "## <p><font size=3px> This Colab is made based on iwestlin’s Google Treasure Box, and has been modified accordingly to make it suitable for running on Colab. The original project address: [https://github.com/ iwestlin/gd-utils](https://github.com/iwestlin/gd-utils).\n",
        "## <p><font size=3px> The project warehouse address: [https://github.com/iErics/gd-utils](https://github.com/iErics/gd-utils)"
      ]
    },
    {
      "cell_type": "code",
      "metadata": {
        "id": "VoQCd8Mnpp9q"
      },
      "source": [
        "#@markdown <h3>← Just click here to run, the same below\n",
        "#@markdown <br><left><img src='https://upload.wikimedia.org/wikipedia/commons/thumb/d/da/Google_Drive_logo.png/600px-Google_Drive_logo.png' height=\"50\" alt =\"Gdrive-logo\"/></left>\n",
        "#@markdown <h2>Mount Google Cloud Disk and install gd-utils\n",
        "#@markdown <h3>The cloud disk that needs to be mounted here only needs to save the sa.zip file, and does not need to be associated with the transfer disk\n",
        "from google.colab import drive\n",
        "from IPython.display import clear_output\n",
        "\n",
        "drive.mount('/content/drive')\n",
        "\n",
        "clear_output()\n",
        "print(\"Start to install gd-utils\")\n",
        "\n",
        "!curl -sL https://deb.nodesource.com/setup_14.x | sudo -E bash -\n",
        "clear_output()\n",
        "!sudo apt-get install -y nodejs\n",
        "clear_output()\n",
        "!git clone https://github.com/iErics/gd-utils\n",
        "clear_output()\n",
        "%cd /content/gd-utils\n",
        "!npm install --unsafe-perm=true --allow-root\n",
        "\n",
        "clear_output()\n",
        "print(\"The installation is successful, start to configure the sa folder\")\n",
        "\n",
        "%cp /content/drive/\"My Drive\"/sa.zip /content/gd-utils\n",
        "!unzip -o -q /content/gd-utils/sa.zip -d /content/gd-utils\n",
        "\n",
        "clear_output()\n",
        "print(\"Configuration complete\")\n",
        "\n"
      ],
      "execution_count": null,
      "outputs": []
    },
    {
      "cell_type": "code",
      "metadata": {
        "id": "GIuVg9Q7yAta",
        "cellView": "form"
      },
      "source": [
        "#@markdown <h3>Handling Area</h3>\n",
        "source = \"\" #@param {type:\"string\"}\n",
        "destination = \"\" #@param {type:\"string\"}\n",
        "\n",
        "\n",
        "print(\"-------I'm going to start, GKD-------\\n-------Hatsune praying....\\n\")\n",
        "\n",
        "#!multifolderclone -s \"$source\" -d \"$destination\"\n",
        "\n",
        "!node --max-old-space-size=4096 copy \"$source\" \"$destination\"  -S\n",
        "\n",
        "\n",
        "print(\"\\n----------Copy Complete----------\\n\")"
      ],
      "execution_count": null,
      "outputs": []
    },
    {
      "cell_type": "code",
      "metadata": {
        "id": "uVWTQI9bZjaF"
      },
      "source": [
        "#@markdown <h3>Statistics area</h3>\n",
        "#@markdown <h4>Options are additional commands. For example, the commonly used -u means forcing information to be obtained online (regardless of whether there is a local cache). You can leave it blank. </h4>\n",
        "FolderID = \"\" #@param {type:\"string\"}\n",
        "Options = \"\" #@param {type:\"string\"}\n",
        "\n",
        "\n",
        "\n",
        "\n",
        "\n",
        "print(\"-------I'm going to start, GKD-------\\n-------Hatsune praying...\\n\")\n",
        "\n",
        "#!multifolderclone -s \"$source\" -d \"$destination\"\n",
        "\n",
        "!node --max-old-space-size=4096 count \"$FolderID\" \"$Options:\" -S\n",
        "\n",
        "\n",
        "print(\"\\n----------Statistics Completed----------\\n\")"
      ],
      "execution_count": null,
      "outputs": []
    },
    {
      "cell_type": "code",
      "metadata": {
        "id": "CPEOJ9CdIlIV"
      },
      "source": [
        "#@markdown <h3>Remove unusable SA</h3>\n",
        "#@markdown <h4>Please fill in a directory ID that can be read by your available SA below, the general target disk ID or the directory ID within it, do not use the share ID</h3>\n",
        "\n",
        "ID = \"\" #@param {type: \"string\"}\n",
        "\n",
        "!./validate-sa.js \"$ID\""
      ],
      "execution_count": null,
      "outputs": []
    },
    {
      "cell_type": "code",
      "metadata": {
        "id": "dRaSe6ujk2RK"
      },
      "source": [
        "#@markdown <h3>View the copy command help information</h3>\n",
        "!./copy -h"
      ],
      "execution_count": null,
      "outputs": []
    },
    {
      "cell_type": "code",
      "metadata": {
        "id": "xMtlQIu51GGT"
      },
      "source": [
        "#@markdown <h3>View statistics command help information</h3>\n",
        "!./count -h"
      ],
      "execution_count": null,
      "outputs": []
    },
    {
      "cell_type": "code",
      "metadata": {
        "id": "lV2AFyDzReeE"
      },
      "source": [
        "#@markdown <h3>Pack the sa folder, please look here</h3>\n",
        "MODE = \"ZIP\"\n",
        "FILENAME = \"sa.zip\" \n",
        "PATH_TO_FILE = \"/content/drive/My Drive/sa\"\n",
        "ARCHIVE_PASSWORD = \"\"\n",
        "compress = 1\n",
        "from pathlib import PurePosixPath\n",
        "from IPython.display import clear_output\n",
        "from google.colab import drive\n",
        "drive.mount('/content/drive')\n",
        "\n",
        "pathList = PATH_TO_FILE.split('|')\n",
        "if MODE == \"ZIP\":\n",
        "    if not FILENAME:\n",
        "      FILENAME = \"/content/NEW_FILE.ZIP\"\n",
        "    if ARCHIVE_PASSWORD:\n",
        "      passADD = f'--password \"{ARCHIVE_PASSWORD}\"'\n",
        "    else:\n",
        "      passADD = ''\n",
        "    for part in pathList:\n",
        "      pathdic = PurePosixPath(part.strip())\n",
        "      parent = pathdic.parent\n",
        "      partName = pathdic.parts[-1]\n",
        "      cmd = f'cd \"{parent}\" && zip {passADD} -{compress} -v -r -u \"{FILENAME}\" \"{partName}\"'\n",
        "      !$cmd\n",
        "clear_output()\n",
        "print(\"\\n----------Packaged Successfully----------\\n\")"
      ],
      "execution_count": null,
      "outputs": []
    }
  ]
}